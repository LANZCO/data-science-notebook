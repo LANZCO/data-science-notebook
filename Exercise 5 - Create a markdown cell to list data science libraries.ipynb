{
  "nbformat": 4,
  "nbformat_minor": 0,
  "metadata": {
    "colab": {
      "provenance": []
    },
    "kernelspec": {
      "name": "python3",
      "display_name": "Python 3"
    },
    "language_info": {
      "name": "python"
    }
  },
  "cells": [
    {
      "cell_type": "code",
      "execution_count": null,
      "metadata": {
        "id": "VVhzSgMXAwYN"
      },
      "outputs": [],
      "source": [
        "## Data Science Libraries\n",
        "1. NumPy\n",
        "2. Pandas\n",
        "3. Matplotlib\n"
      ]
    }
  ]
}