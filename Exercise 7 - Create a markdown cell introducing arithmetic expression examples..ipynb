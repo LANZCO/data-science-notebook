{
  "nbformat": 4,
  "nbformat_minor": 0,
  "metadata": {
    "colab": {
      "provenance": []
    },
    "kernelspec": {
      "name": "python3",
      "display_name": "Python 3"
    },
    "language_info": {
      "name": "python"
    }
  },
  "cells": [
    {
      "cell_type": "code",
      "execution_count": 2,
      "metadata": {
        "colab": {
          "base_uri": "https://localhost:8080/"
        },
        "id": "WGsuKG8xGGdM",
        "outputId": "b11b6892-ae8d-4740-fd75-1bd5f1eb8675"
      },
      "outputs": [
        {
          "output_type": "stream",
          "name": "stdout",
          "text": [
            "Sum of numbers: 15\n",
            "Average of numbers: 3.0\n"
          ]
        }
      ],
      "source": [
        "# 创建一个列表\n",
        "numbers = [1, 2, 3, 4, 5]\n",
        "\n",
        "# 计算列表中所有数字的和\n",
        "sum_of_numbers = sum(numbers)\n",
        "\n",
        "# 计算列表中所有数字的平均值\n",
        "average_of_numbers = sum_of_numbers / len(numbers)\n",
        "\n",
        "# 输出结果\n",
        "print(\"Sum of numbers:\", sum_of_numbers)\n",
        "print(\"Average of numbers:\", average_of_numbers)\n",
        "\n"
      ]
    }
  ]
}