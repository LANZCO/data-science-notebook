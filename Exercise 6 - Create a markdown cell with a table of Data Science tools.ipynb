{
  "nbformat": 4,
  "nbformat_minor": 0,
  "metadata": {
    "colab": {
      "provenance": []
    },
    "kernelspec": {
      "name": "python3",
      "display_name": "Python 3"
    },
    "language_info": {
      "name": "python"
    }
  },
  "cells": [
    {
      "cell_type": "code",
      "source": [
        "import pandas as pd\n",
        "\n",
        "data = {'Tool': ['Jupyter Notebook', 'Python', 'R', 'SQL', 'TensorFlow', 'Keras'],\n",
        "        'Description': ['Interactive computational environment', 'High-level programming language', 'Statistical computing and graphics', 'Structured query language for managing data', 'Deep learning library', 'Deep learning library']}\n",
        "\n",
        "df = pd.DataFrame(data)\n",
        "\n",
        "print(df)\n"
      ],
      "metadata": {
        "id": "2whpa82YF6hA",
        "outputId": "7811cfd6-73f3-4c36-92ff-fa12a8d885b9",
        "colab": {
          "base_uri": "https://localhost:8080/"
        }
      },
      "execution_count": 3,
      "outputs": [
        {
          "output_type": "stream",
          "name": "stdout",
          "text": [
            "               Tool                                  Description\n",
            "0  Jupyter Notebook        Interactive computational environment\n",
            "1            Python              High-level programming language\n",
            "2                 R           Statistical computing and graphics\n",
            "3               SQL  Structured query language for managing data\n",
            "4        TensorFlow                        Deep learning library\n",
            "5             Keras                        Deep learning library\n"
          ]
        }
      ]
    }
  ]
}