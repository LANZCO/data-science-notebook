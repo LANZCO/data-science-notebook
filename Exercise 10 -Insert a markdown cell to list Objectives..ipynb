{
  "nbformat": 4,
  "nbformat_minor": 0,
  "metadata": {
    "colab": {
      "provenance": []
    },
    "kernelspec": {
      "name": "python3",
      "display_name": "Python 3"
    },
    "language_info": {
      "name": "python"
    }
  },
  "cells": [
    {
      "cell_type": "code",
      "execution_count": 2,
      "metadata": {
        "colab": {
          "base_uri": "https://localhost:8080/"
        },
        "id": "215zFLw2LNJx",
        "outputId": "99c12a6a-d64f-4219-b156-cb29b4371ef9"
      },
      "outputs": [
        {
          "output_type": "stream",
          "name": "stdout",
          "text": [
            "Sum of numbers: 15\n",
            "Average of numbers: 3.0\n"
          ]
        }
      ],
      "source": [
        "# 创建一个列表\n",
        "numbers = [1, 2, 3, 4, 5]\n",
        "\n",
        "# 计算列表中所有数字的和\n",
        "sum_of_numbers = sum(numbers)\n",
        "\n",
        "# 计算列表中所有数字的平均值\n",
        "average_of_numbers = sum_of_numbers / len(numbers)\n",
        "\n",
        "# 输出结果\n",
        "print(\"Sum of numbers:\", sum_of_numbers)\n",
        "print(\"Average of numbers:\", average_of_numbers)\n",
        "\n"
      ]
    }
  ]
}