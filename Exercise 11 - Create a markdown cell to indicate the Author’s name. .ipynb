{
  "nbformat": 4,
  "nbformat_minor": 0,
  "metadata": {
    "colab": {
      "provenance": []
    },
    "kernelspec": {
      "name": "python3",
      "display_name": "Python 3"
    },
    "language_info": {
      "name": "python"
    }
  },
  "cells": [
    {
      "cell_type": "code",
      "execution_count": 3,
      "metadata": {
        "colab": {
          "base_uri": "https://localhost:8080/",
          "height": 141
        },
        "id": "215zFLw2LNJx",
        "outputId": "d8802a7a-6a81-4931-c3d3-2a3fc5cf3f84"
      },
      "outputs": [
        {
          "output_type": "error",
          "ename": "SyntaxError",
          "evalue": "ignored",
          "traceback": [
            "\u001b[0;36m  File \u001b[0;32m\"<ipython-input-3-ec7597f3639f>\"\u001b[0;36m, line \u001b[0;32m2\u001b[0m\n\u001b[0;31m    Ailiu Cheng\u001b[0m\n\u001b[0m          ^\u001b[0m\n\u001b[0;31mSyntaxError\u001b[0m\u001b[0;31m:\u001b[0m invalid syntax\n"
          ]
        }
      ],
      "source": [
        "## Author\n",
        "Ailiu Cheng\n",
        "\n",
        "\n"
      ]
    }
  ]
}