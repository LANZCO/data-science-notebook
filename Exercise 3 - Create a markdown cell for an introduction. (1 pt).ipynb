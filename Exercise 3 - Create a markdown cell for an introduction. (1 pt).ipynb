{
  "nbformat": 4,
  "nbformat_minor": 0,
  "metadata": {
    "colab": {
      "provenance": []
    },
    "kernelspec": {
      "name": "python3",
      "display_name": "Python 3"
    },
    "language_info": {
      "name": "python"
    }
  },
  "cells": [
    {
      "cell_type": "code",
      "execution_count": null,
      "metadata": {
        "id": "q2NVIqEMAKZc"
      },
      "outputs": [],
      "source": [
        "## Introduction\n",
        "This notebook is designed to provide an overview of data science concepts and tools.\n"
      ]
    }
  ]
}