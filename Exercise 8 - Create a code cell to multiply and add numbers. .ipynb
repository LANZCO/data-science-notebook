{
  "nbformat": 4,
  "nbformat_minor": 0,
  "metadata": {
    "colab": {
      "provenance": []
    },
    "kernelspec": {
      "name": "python3",
      "display_name": "Python 3"
    },
    "language_info": {
      "name": "python"
    }
  },
  "cells": [
    {
      "cell_type": "code",
      "execution_count": 1,
      "metadata": {
        "colab": {
          "base_uri": "https://localhost:8080/"
        },
        "id": "BJaeQXcMJ4jU",
        "outputId": "34b18f8b-a7c2-4e0d-bcea-babffab97d7a"
      },
      "outputs": [
        {
          "output_type": "stream",
          "name": "stdout",
          "text": [
            "Multiplication: 15\n",
            "Addition: 8\n"
          ]
        }
      ],
      "source": [
        "def multiply_and_add(a, b):\n",
        "    result_multiply = a * b\n",
        "    result_add = a + b\n",
        "    return result_multiply, result_add\n",
        "\n",
        "result_multiply, result_add = multiply_and_add(5, 3)\n",
        "print(\"Multiplication:\", result_multiply)\n",
        "print(\"Addition:\", result_add)\n"
      ]
    }
  ]
}